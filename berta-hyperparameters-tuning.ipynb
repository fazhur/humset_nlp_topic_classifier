{
 "cells": [
  {
   "cell_type": "code",
   "execution_count": 1,
   "metadata": {
    "execution": {
     "iopub.execute_input": "2024-12-19T00:58:47.959498Z",
     "iopub.status.busy": "2024-12-19T00:58:47.959245Z",
     "iopub.status.idle": "2024-12-19T00:59:02.059230Z",
     "shell.execute_reply": "2024-12-19T00:59:02.058331Z",
     "shell.execute_reply.started": "2024-12-19T00:58:47.959467Z"
    },
    "trusted": true
   },
   "outputs": [],
   "source": [
    "import pandas as pd\n",
    "import torch\n",
    "from transformers import AutoTokenizer, AutoModelForSequenceClassification, Trainer, TrainingArguments\n",
    "from sklearn.model_selection import train_test_split\n",
    "from datasets import Dataset\n",
    "import numpy as np"
   ]
  },
  {
   "cell_type": "code",
   "execution_count": 3,
   "metadata": {
    "execution": {
     "iopub.execute_input": "2024-12-19T00:59:41.552989Z",
     "iopub.status.busy": "2024-12-19T00:59:41.552695Z",
     "iopub.status.idle": "2024-12-19T00:59:41.556326Z",
     "shell.execute_reply": "2024-12-19T00:59:41.555468Z",
     "shell.execute_reply.started": "2024-12-19T00:59:41.552969Z"
    },
    "trusted": true
   },
   "outputs": [],
   "source": [
    "MODEL_PATH = \"/kaggle/input/berta_base_humset_merged/pytorch/default/1\"\n",
    "DATA_FOLDER = \"/kaggle/input/humset-normalized/\""
   ]
  },
  {
   "cell_type": "code",
   "execution_count": 4,
   "metadata": {
    "execution": {
     "iopub.execute_input": "2024-12-19T00:59:43.717219Z",
     "iopub.status.busy": "2024-12-19T00:59:43.716866Z",
     "iopub.status.idle": "2024-12-19T00:59:43.773559Z",
     "shell.execute_reply": "2024-12-19T00:59:43.772452Z",
     "shell.execute_reply.started": "2024-12-19T00:59:43.717194Z"
    },
    "trusted": true
   },
   "outputs": [],
   "source": [
    "device = torch.device(\"cuda\" if torch.cuda.is_available() else \"cpu\")"
   ]
  },
  {
   "cell_type": "code",
   "execution_count": 5,
   "metadata": {
    "execution": {
     "iopub.execute_input": "2024-12-19T01:00:27.304065Z",
     "iopub.status.busy": "2024-12-19T01:00:27.303718Z",
     "iopub.status.idle": "2024-12-19T01:00:32.244156Z",
     "shell.execute_reply": "2024-12-19T01:00:32.243462Z",
     "shell.execute_reply.started": "2024-12-19T01:00:27.304036Z"
    },
    "trusted": true
   },
   "outputs": [],
   "source": [
    "model = AutoModelForSequenceClassification.from_pretrained(MODEL_PATH, num_labels=40, problem_type=\"multi_label_classification\")\n",
    "model.to(device)\n",
    "tokenizer = AutoTokenizer.from_pretrained(MODEL_PATH)"
   ]
  },
  {
   "cell_type": "code",
   "execution_count": 6,
   "metadata": {
    "execution": {
     "iopub.execute_input": "2024-12-19T01:02:20.747436Z",
     "iopub.status.busy": "2024-12-19T01:02:20.747126Z",
     "iopub.status.idle": "2024-12-19T01:02:20.852950Z",
     "shell.execute_reply": "2024-12-19T01:02:20.852244Z",
     "shell.execute_reply.started": "2024-12-19T01:02:20.747414Z"
    },
    "trusted": true
   },
   "outputs": [
    {
     "data": {
      "text/html": [
       "<div>\n",
       "<style scoped>\n",
       "    .dataframe tbody tr th:only-of-type {\n",
       "        vertical-align: middle;\n",
       "    }\n",
       "\n",
       "    .dataframe tbody tr th {\n",
       "        vertical-align: top;\n",
       "    }\n",
       "\n",
       "    .dataframe thead th {\n",
       "        text-align: right;\n",
       "    }\n",
       "</style>\n",
       "<table border=\"1\" class=\"dataframe\">\n",
       "  <thead>\n",
       "    <tr style=\"text-align: right;\">\n",
       "      <th></th>\n",
       "      <th>id</th>\n",
       "      <th>text</th>\n",
       "      <th>subpillars</th>\n",
       "      <th>subpillars_labels</th>\n",
       "      <th>labels</th>\n",
       "    </tr>\n",
       "  </thead>\n",
       "  <tbody>\n",
       "    <tr>\n",
       "      <th>0</th>\n",
       "      <td>298136</td>\n",
       "      <td>The lack of schools means that children  of sc...</td>\n",
       "      <td>['Humanitarian conditions-&gt;Living standards', ...</td>\n",
       "      <td>Humanitarian conditions-&gt;Living standards~Huma...</td>\n",
       "      <td>[0.0, 0.0, 0.0, 0.0, 0.0, 0.0, 0.0, 0.0, 0.0, ...</td>\n",
       "    </tr>\n",
       "    <tr>\n",
       "      <th>1</th>\n",
       "      <td>474596</td>\n",
       "      <td>FOOD CONSUMPTION The analysis found that 7 out...</td>\n",
       "      <td>['Humanitarian conditions-&gt;Living standards', ...</td>\n",
       "      <td>Humanitarian conditions-&gt;Living standards~Impa...</td>\n",
       "      <td>[0.0, 0.0, 0.0, 0.0, 0.0, 0.0, 0.0, 0.0, 0.0, ...</td>\n",
       "    </tr>\n",
       "    <tr>\n",
       "      <th>2</th>\n",
       "      <td>116034</td>\n",
       "      <td>The document showed that 1,909 new cases were ...</td>\n",
       "      <td>['Casualties-&gt;Dead', 'Humanitarian conditions-...</td>\n",
       "      <td>Casualties-&gt;Dead~Humanitarian conditions-&gt;Phys...</td>\n",
       "      <td>[0.0, 0.0, 0.0, 0.0, 0.0, 0.0, 0.0, 0.0, 0.0, ...</td>\n",
       "    </tr>\n",
       "    <tr>\n",
       "      <th>3</th>\n",
       "      <td>137452</td>\n",
       "      <td>Immediate gaps for 143,000 internally displace...</td>\n",
       "      <td>['Priority needs-&gt;Expressed by humanitarian st...</td>\n",
       "      <td>Priority needs-&gt;Expressed by humanitarian staf...</td>\n",
       "      <td>[0.0, 0.0, 1.0, 1.0, 0.0, 0.0, 0.0, 0.0, 0.0, ...</td>\n",
       "    </tr>\n",
       "    <tr>\n",
       "      <th>4</th>\n",
       "      <td>406252</td>\n",
       "      <td>Refugee: Rapid Investigation and Response Team...</td>\n",
       "      <td>['Covid-19-&gt;Cases', 'Covid-19-&gt;Restriction mea...</td>\n",
       "      <td>Covid-19-&gt;Cases~Covid-19-&gt;Restriction measures</td>\n",
       "      <td>[0.0, 0.0, 0.0, 0.0, 1.0, 0.0, 0.0, 0.0, 0.0, ...</td>\n",
       "    </tr>\n",
       "  </tbody>\n",
       "</table>\n",
       "</div>"
      ],
      "text/plain": [
       "       id                                               text  \\\n",
       "0  298136  The lack of schools means that children  of sc...   \n",
       "1  474596  FOOD CONSUMPTION The analysis found that 7 out...   \n",
       "2  116034  The document showed that 1,909 new cases were ...   \n",
       "3  137452  Immediate gaps for 143,000 internally displace...   \n",
       "4  406252  Refugee: Rapid Investigation and Response Team...   \n",
       "\n",
       "                                          subpillars  \\\n",
       "0  ['Humanitarian conditions->Living standards', ...   \n",
       "1  ['Humanitarian conditions->Living standards', ...   \n",
       "2  ['Casualties->Dead', 'Humanitarian conditions-...   \n",
       "3  ['Priority needs->Expressed by humanitarian st...   \n",
       "4  ['Covid-19->Cases', 'Covid-19->Restriction mea...   \n",
       "\n",
       "                                   subpillars_labels  \\\n",
       "0  Humanitarian conditions->Living standards~Huma...   \n",
       "1  Humanitarian conditions->Living standards~Impa...   \n",
       "2  Casualties->Dead~Humanitarian conditions->Phys...   \n",
       "3  Priority needs->Expressed by humanitarian staf...   \n",
       "4     Covid-19->Cases~Covid-19->Restriction measures   \n",
       "\n",
       "                                              labels  \n",
       "0  [0.0, 0.0, 0.0, 0.0, 0.0, 0.0, 0.0, 0.0, 0.0, ...  \n",
       "1  [0.0, 0.0, 0.0, 0.0, 0.0, 0.0, 0.0, 0.0, 0.0, ...  \n",
       "2  [0.0, 0.0, 0.0, 0.0, 0.0, 0.0, 0.0, 0.0, 0.0, ...  \n",
       "3  [0.0, 0.0, 1.0, 1.0, 0.0, 0.0, 0.0, 0.0, 0.0, ...  \n",
       "4  [0.0, 0.0, 0.0, 0.0, 1.0, 0.0, 0.0, 0.0, 0.0, ...  "
      ]
     },
     "execution_count": 6,
     "metadata": {},
     "output_type": "execute_result"
    }
   ],
   "source": [
    "validation_dataset = pd.read_csv(DATA_FOLDER + \"val_data.csv\", index_col=0)\n",
    "validation_dataset.head()"
   ]
  },
  {
   "cell_type": "code",
   "execution_count": 8,
   "metadata": {
    "execution": {
     "iopub.execute_input": "2024-12-19T01:03:21.095208Z",
     "iopub.status.busy": "2024-12-19T01:03:21.094909Z",
     "iopub.status.idle": "2024-12-19T01:03:21.159510Z",
     "shell.execute_reply": "2024-12-19T01:03:21.158611Z",
     "shell.execute_reply.started": "2024-12-19T01:03:21.095185Z"
    },
    "trusted": true
   },
   "outputs": [
    {
     "data": {
      "text/html": [
       "<div>\n",
       "<style scoped>\n",
       "    .dataframe tbody tr th:only-of-type {\n",
       "        vertical-align: middle;\n",
       "    }\n",
       "\n",
       "    .dataframe tbody tr th {\n",
       "        vertical-align: top;\n",
       "    }\n",
       "\n",
       "    .dataframe thead th {\n",
       "        text-align: right;\n",
       "    }\n",
       "</style>\n",
       "<table border=\"1\" class=\"dataframe\">\n",
       "  <thead>\n",
       "    <tr style=\"text-align: right;\">\n",
       "      <th></th>\n",
       "      <th>id</th>\n",
       "      <th>text</th>\n",
       "      <th>subpillars</th>\n",
       "      <th>subpillars_labels</th>\n",
       "    </tr>\n",
       "  </thead>\n",
       "  <tbody>\n",
       "    <tr>\n",
       "      <th>0</th>\n",
       "      <td>313178</td>\n",
       "      <td>Other gaps include capacity to provide PSS, PF...</td>\n",
       "      <td>[Capacities &amp; response-&gt;International response...</td>\n",
       "      <td>Capacities &amp; response-&gt;International response~...</td>\n",
       "    </tr>\n",
       "    <tr>\n",
       "      <th>1</th>\n",
       "      <td>85411</td>\n",
       "      <td>The BAY states  ( Borno, Adamawa and Yobe ) , ...</td>\n",
       "      <td>[Humanitarian conditions-&gt;Number of people in ...</td>\n",
       "      <td>Humanitarian conditions-&gt;Number of people in need</td>\n",
       "    </tr>\n",
       "    <tr>\n",
       "      <th>2</th>\n",
       "      <td>492362</td>\n",
       "      <td>Damboa LGA: 35 hygiene promoters  ( IMC )  hav...</td>\n",
       "      <td>[Capacities &amp; response-&gt;International response...</td>\n",
       "      <td>Capacities &amp; response-&gt;International response~...</td>\n",
       "    </tr>\n",
       "    <tr>\n",
       "      <th>3</th>\n",
       "      <td>239365</td>\n",
       "      <td>RRT training of underperforming LGA commenced ...</td>\n",
       "      <td>[Covid-19-&gt;Cases]</td>\n",
       "      <td>Covid-19-&gt;Cases</td>\n",
       "    </tr>\n",
       "    <tr>\n",
       "      <th>4</th>\n",
       "      <td>294188</td>\n",
       "      <td>A massive fire broke out in Kutupalong Balukha...</td>\n",
       "      <td>[Casualties-&gt;Injured, Impact-&gt;Impact on people...</td>\n",
       "      <td>Casualties-&gt;Injured~Impact-&gt;Impact on people~C...</td>\n",
       "    </tr>\n",
       "  </tbody>\n",
       "</table>\n",
       "</div>"
      ],
      "text/plain": [
       "       id                                               text  \\\n",
       "0  313178  Other gaps include capacity to provide PSS, PF...   \n",
       "1   85411  The BAY states  ( Borno, Adamawa and Yobe ) , ...   \n",
       "2  492362  Damboa LGA: 35 hygiene promoters  ( IMC )  hav...   \n",
       "3  239365  RRT training of underperforming LGA commenced ...   \n",
       "4  294188  A massive fire broke out in Kutupalong Balukha...   \n",
       "\n",
       "                                          subpillars  \\\n",
       "0  [Capacities & response->International response...   \n",
       "1  [Humanitarian conditions->Number of people in ...   \n",
       "2  [Capacities & response->International response...   \n",
       "3                                  [Covid-19->Cases]   \n",
       "4  [Casualties->Injured, Impact->Impact on people...   \n",
       "\n",
       "                                   subpillars_labels  \n",
       "0  Capacities & response->International response~...  \n",
       "1  Humanitarian conditions->Number of people in need  \n",
       "2  Capacities & response->International response~...  \n",
       "3                                    Covid-19->Cases  \n",
       "4  Casualties->Injured~Impact->Impact on people~C...  "
      ]
     },
     "execution_count": 8,
     "metadata": {},
     "output_type": "execute_result"
    }
   ],
   "source": [
    "data = pd.read_json(DATA_FOLDER + 'humset_bias_test_en_normalized_with_empty.jsonl', lines=True)\n",
    "data['subpillars_labels'] = data['subpillars'].apply(lambda x: \"~\".join(x))\n",
    "all_topics = set(topic for topics in data['subpillars'] for topic in topics)\n",
    "data.head(5)"
   ]
  },
  {
   "cell_type": "code",
   "execution_count": 9,
   "metadata": {
    "execution": {
     "iopub.execute_input": "2024-12-19T01:03:28.466656Z",
     "iopub.status.busy": "2024-12-19T01:03:28.466349Z",
     "iopub.status.idle": "2024-12-19T01:03:28.472534Z",
     "shell.execute_reply": "2024-12-19T01:03:28.471607Z",
     "shell.execute_reply.started": "2024-12-19T01:03:28.466628Z"
    },
    "trusted": true
   },
   "outputs": [],
   "source": [
    "topic_mapping = {'Shock/event->Hazard & threats': 0,\n",
    " 'At risk->Risk and vulnerabilities': 1,\n",
    " 'Priority needs->Expressed by humanitarian staff': 2,\n",
    " 'Humanitarian conditions->Number of people in need': 3,\n",
    " 'Covid-19->Restriction measures': 4,\n",
    " 'Shock/event->Underlying/aggravating factors': 5,\n",
    " 'Displacement->Push factors': 6,\n",
    " 'Humanitarian conditions->Coping mechanisms': 7,\n",
    " 'Context->Security & stability': 8,\n",
    " 'Context->Socio cultural': 9,\n",
    " 'Casualties->Injured': 10,\n",
    " 'Covid-19->Prevention campaign': 11,\n",
    " 'Priority interventions->Expressed by humanitarian staff': 12,\n",
    " 'Context->Economy': 13,\n",
    " 'Displacement->Type/numbers/movements': 14,\n",
    " 'Covid-19->Vaccination': 15,\n",
    " 'Information and communication->Communication means and preferences': 16,\n",
    " 'Context->Demography': 17,\n",
    " 'Casualties->Dead': 18,\n",
    " 'Capacities & response->People reached/response gaps': 19,\n",
    " 'Capacities & response->National response': 20,\n",
    " 'Humanitarian conditions->Living standards': 21,\n",
    " 'Priority needs->Expressed by population': 22,\n",
    " 'Impact->Impact on people': 23,\n",
    " 'Impact->Number of people affected': 24,\n",
    " 'Covid-19->Testing': 25,\n",
    " 'Information and communication->Knowledge and info gaps (pop)': 26,\n",
    " 'Context->Legal & policy': 27,\n",
    " 'Context->Environment': 28,\n",
    " 'Humanitarian conditions->Physical and mental well being': 29,\n",
    " 'Capacities & response->International response': 30,\n",
    " 'Context->Politics': 31,\n",
    " 'Impact->Driver/aggravating factors': 32,\n",
    " 'Information and communication->Knowledge and info gaps (hum)': 33,\n",
    " 'Covid-19->Cases': 34,\n",
    " 'Humanitarian access->Relief to population': 35,\n",
    " 'Impact->Impact on systems, services and networks': 36,\n",
    " 'Covid-19->Deaths': 37,\n",
    " 'Humanitarian access->Physical constraints': 38,\n",
    " 'Shock/event->Type and characteristics': 39}\n",
    "inversed_topic_mapping = {v: k for k, v in topic_mapping.items()}"
   ]
  },
  {
   "cell_type": "code",
   "execution_count": 27,
   "metadata": {
    "execution": {
     "iopub.execute_input": "2024-12-18T23:41:38.072078Z",
     "iopub.status.busy": "2024-12-18T23:41:38.071740Z",
     "iopub.status.idle": "2024-12-18T23:41:38.076925Z",
     "shell.execute_reply": "2024-12-18T23:41:38.076103Z",
     "shell.execute_reply.started": "2024-12-18T23:41:38.072052Z"
    },
    "trusted": true
   },
   "outputs": [],
   "source": [
    "def calculate_average_sigmoid_sum(model, data, tokenizer):\n",
    "    inputs = tokenizer(data['text'].tolist(), return_tensors=\"pt\", padding=True, truncation=True, max_length=512)\n",
    "    inputs = {key: inputs[key].to(device) for key in inputs}\n",
    "    outputs = model(**inputs)\n",
    "    logits = outputs.logits\n",
    "    sigmoid_outputs = torch.sigmoid(logits)    \n",
    "    return sigmoid_outputs.sum(dim=1).mean().item()"
   ]
  },
  {
   "cell_type": "code",
   "execution_count": 8,
   "metadata": {
    "execution": {
     "iopub.execute_input": "2024-12-18T22:51:36.149511Z",
     "iopub.status.busy": "2024-12-18T22:51:36.149295Z",
     "iopub.status.idle": "2024-12-18T22:51:36.221722Z",
     "shell.execute_reply": "2024-12-18T22:51:36.220853Z",
     "shell.execute_reply.started": "2024-12-18T22:51:36.149492Z"
    },
    "trusted": true
   },
   "outputs": [],
   "source": [
    "all_labels = list(set(label for sublist in data[\"subpillars\"] for label in sublist))\n",
    "label_to_index = topic_mapping\n",
    "num_labels = len(all_labels)\n",
    "\n",
    "def encode_labels(subpillars):\n",
    "    \"\"\"Generate a multi-hot vector with 1s for the existing labels and 0s elsewhere.\"\"\"\n",
    "    multi_hot = [0.0] * num_labels\n",
    "    for label in subpillars:\n",
    "        multi_hot[label_to_index[label]] = 1.0\n",
    "    return multi_hot\n",
    "\n",
    "data[\"labels\"] = data[\"subpillars\"].apply(encode_labels)"
   ]
  },
  {
   "cell_type": "code",
   "execution_count": 9,
   "metadata": {
    "execution": {
     "iopub.execute_input": "2024-12-18T22:51:36.223145Z",
     "iopub.status.busy": "2024-12-18T22:51:36.222804Z",
     "iopub.status.idle": "2024-12-18T22:51:36.235569Z",
     "shell.execute_reply": "2024-12-18T22:51:36.234553Z",
     "shell.execute_reply.started": "2024-12-18T22:51:36.223116Z"
    },
    "trusted": true
   },
   "outputs": [
    {
     "data": {
      "text/html": [
       "<div>\n",
       "<style scoped>\n",
       "    .dataframe tbody tr th:only-of-type {\n",
       "        vertical-align: middle;\n",
       "    }\n",
       "\n",
       "    .dataframe tbody tr th {\n",
       "        vertical-align: top;\n",
       "    }\n",
       "\n",
       "    .dataframe thead th {\n",
       "        text-align: right;\n",
       "    }\n",
       "</style>\n",
       "<table border=\"1\" class=\"dataframe\">\n",
       "  <thead>\n",
       "    <tr style=\"text-align: right;\">\n",
       "      <th></th>\n",
       "      <th>id</th>\n",
       "      <th>text</th>\n",
       "      <th>subpillars</th>\n",
       "      <th>subpillars_labels</th>\n",
       "      <th>labels</th>\n",
       "    </tr>\n",
       "  </thead>\n",
       "  <tbody>\n",
       "    <tr>\n",
       "      <th>0</th>\n",
       "      <td>199921</td>\n",
       "      <td>with over one million IDPs inside Burkina Faso...</td>\n",
       "      <td>[Displacement-&gt;Type/numbers/movements]</td>\n",
       "      <td>Displacement-&gt;Type/numbers/movements</td>\n",
       "      <td>[0.0, 0.0, 0.0, 0.0, 0.0, 0.0, 0.0, 0.0, 0.0, ...</td>\n",
       "    </tr>\n",
       "    <tr>\n",
       "      <th>1</th>\n",
       "      <td>293791</td>\n",
       "      <td>Highly vulnerable regions like Africa need at ...</td>\n",
       "      <td>[Context-&gt;Environment, Context-&gt;Economy]</td>\n",
       "      <td>Context-&gt;Environment~Context-&gt;Economy</td>\n",
       "      <td>[0.0, 0.0, 0.0, 0.0, 0.0, 0.0, 0.0, 0.0, 1.0, ...</td>\n",
       "    </tr>\n",
       "    <tr>\n",
       "      <th>2</th>\n",
       "      <td>169537</td>\n",
       "      <td>The deterioration of the security situation ha...</td>\n",
       "      <td>[Displacement-&gt;Push factors, Context-&gt;Security...</td>\n",
       "      <td>Displacement-&gt;Push factors~Context-&gt;Security &amp;...</td>\n",
       "      <td>[1.0, 0.0, 0.0, 0.0, 0.0, 0.0, 0.0, 0.0, 0.0, ...</td>\n",
       "    </tr>\n",
       "    <tr>\n",
       "      <th>3</th>\n",
       "      <td>155848</td>\n",
       "      <td>To date, UNHCR and its partner the Fondation H...</td>\n",
       "      <td>[Capacities &amp; response-&gt;International response...</td>\n",
       "      <td>Capacities &amp; response-&gt;International response~...</td>\n",
       "      <td>[0.0, 0.0, 0.0, 0.0, 0.0, 0.0, 0.0, 0.0, 0.0, ...</td>\n",
       "    </tr>\n",
       "    <tr>\n",
       "      <th>4</th>\n",
       "      <td>158303</td>\n",
       "      <td>\"We're seeing an alarming deterioration in foo...</td>\n",
       "      <td>[Humanitarian conditions-&gt;Living standards, Di...</td>\n",
       "      <td>Humanitarian conditions-&gt;Living standards~Disp...</td>\n",
       "      <td>[1.0, 0.0, 0.0, 0.0, 0.0, 0.0, 1.0, 0.0, 0.0, ...</td>\n",
       "    </tr>\n",
       "  </tbody>\n",
       "</table>\n",
       "</div>"
      ],
      "text/plain": [
       "       id                                               text  \\\n",
       "0  199921  with over one million IDPs inside Burkina Faso...   \n",
       "1  293791  Highly vulnerable regions like Africa need at ...   \n",
       "2  169537  The deterioration of the security situation ha...   \n",
       "3  155848  To date, UNHCR and its partner the Fondation H...   \n",
       "4  158303  \"We're seeing an alarming deterioration in foo...   \n",
       "\n",
       "                                          subpillars  \\\n",
       "0             [Displacement->Type/numbers/movements]   \n",
       "1           [Context->Environment, Context->Economy]   \n",
       "2  [Displacement->Push factors, Context->Security...   \n",
       "3  [Capacities & response->International response...   \n",
       "4  [Humanitarian conditions->Living standards, Di...   \n",
       "\n",
       "                                   subpillars_labels  \\\n",
       "0               Displacement->Type/numbers/movements   \n",
       "1              Context->Environment~Context->Economy   \n",
       "2  Displacement->Push factors~Context->Security &...   \n",
       "3  Capacities & response->International response~...   \n",
       "4  Humanitarian conditions->Living standards~Disp...   \n",
       "\n",
       "                                              labels  \n",
       "0  [0.0, 0.0, 0.0, 0.0, 0.0, 0.0, 0.0, 0.0, 0.0, ...  \n",
       "1  [0.0, 0.0, 0.0, 0.0, 0.0, 0.0, 0.0, 0.0, 1.0, ...  \n",
       "2  [1.0, 0.0, 0.0, 0.0, 0.0, 0.0, 0.0, 0.0, 0.0, ...  \n",
       "3  [0.0, 0.0, 0.0, 0.0, 0.0, 0.0, 0.0, 0.0, 0.0, ...  \n",
       "4  [1.0, 0.0, 0.0, 0.0, 0.0, 0.0, 1.0, 0.0, 0.0, ...  "
      ]
     },
     "execution_count": 9,
     "metadata": {},
     "output_type": "execute_result"
    }
   ],
   "source": [
    "data.head(5)"
   ]
  },
  {
   "cell_type": "code",
   "execution_count": 13,
   "metadata": {
    "execution": {
     "iopub.execute_input": "2024-12-19T01:10:49.273164Z",
     "iopub.status.busy": "2024-12-19T01:10:49.272818Z",
     "iopub.status.idle": "2024-12-19T01:10:49.285550Z",
     "shell.execute_reply": "2024-12-19T01:10:49.284697Z",
     "shell.execute_reply.started": "2024-12-19T01:10:49.273137Z"
    },
    "trusted": true
   },
   "outputs": [],
   "source": [
    "multi_topic_data = data[data['subpillars'].apply(len) > 1]\n",
    "single_topic_data = data[data['subpillars'].apply(len) == 1]\n",
    "no_topic_data = data[data['subpillars'].apply(len) == 0]"
   ]
  },
  {
   "cell_type": "code",
   "execution_count": 14,
   "metadata": {
    "execution": {
     "iopub.execute_input": "2024-12-19T01:11:00.095114Z",
     "iopub.status.busy": "2024-12-19T01:11:00.094789Z",
     "iopub.status.idle": "2024-12-19T01:11:00.100414Z",
     "shell.execute_reply": "2024-12-19T01:11:00.099357Z",
     "shell.execute_reply.started": "2024-12-19T01:11:00.095087Z"
    },
    "trusted": true
   },
   "outputs": [
    {
     "data": {
      "text/plain": [
       "(1970, 3088, 1060)"
      ]
     },
     "execution_count": 14,
     "metadata": {},
     "output_type": "execute_result"
    }
   ],
   "source": [
    "len(multi_topic_data), len(single_topic_data), len(no_topic_data)"
   ]
  },
  {
   "cell_type": "code",
   "execution_count": 15,
   "metadata": {
    "execution": {
     "iopub.execute_input": "2024-12-19T01:11:24.876683Z",
     "iopub.status.busy": "2024-12-19T01:11:24.876398Z",
     "iopub.status.idle": "2024-12-19T01:11:24.881153Z",
     "shell.execute_reply": "2024-12-19T01:11:24.880301Z",
     "shell.execute_reply.started": "2024-12-19T01:11:24.876655Z"
    },
    "trusted": true
   },
   "outputs": [],
   "source": [
    "def calculate_average_sigmoid_sum(model, data, tokenizer):\n",
    "    inputs = tokenizer(data['text'].tolist(), return_tensors=\"pt\", padding=True, truncation=True, max_length=512)\n",
    "    inputs = {key: inputs[key].to(device) for key in inputs}\n",
    "    outputs = model(**inputs)\n",
    "    logits = outputs.logits\n",
    "    sigmoid_outputs = torch.sigmoid(logits)    \n",
    "    return sigmoid_outputs.sum(dim=1).mean().item()"
   ]
  },
  {
   "cell_type": "code",
   "execution_count": 16,
   "metadata": {
    "execution": {
     "iopub.execute_input": "2024-12-19T01:11:51.958531Z",
     "iopub.status.busy": "2024-12-19T01:11:51.958255Z",
     "iopub.status.idle": "2024-12-19T01:11:53.759840Z",
     "shell.execute_reply": "2024-12-19T01:11:53.759115Z",
     "shell.execute_reply.started": "2024-12-19T01:11:51.958512Z"
    },
    "trusted": true
   },
   "outputs": [
    {
     "name": "stdout",
     "output_type": "stream",
     "text": [
      "Single topic sigmoid average sum: 1.371899127960205\n",
      "Multi topic sigmoid average sum: 2.0421056747436523\n",
      "No-topic sigmoid average sum: 1.59225332736969\n"
     ]
    }
   ],
   "source": [
    "res_single = calculate_average_sigmoid_sum(model, single_topic_data[:100], tokenizer)\n",
    "print(f\"Single topic sigmoid average sum: {res_single}\")\n",
    "res_multi = calculate_average_sigmoid_sum(model, multi_topic_data[:100], tokenizer)\n",
    "print(f\"Multi topic sigmoid average sum: {res_multi}\")\n",
    "res_no_topic = calculate_average_sigmoid_sum(model, no_topic_data[:100], tokenizer)\n",
    "print(f\"No-topic sigmoid average sum: {res_no_topic}\")"
   ]
  },
  {
   "cell_type": "code",
   "execution_count": 36,
   "metadata": {
    "execution": {
     "iopub.execute_input": "2024-12-19T01:31:22.823770Z",
     "iopub.status.busy": "2024-12-19T01:31:22.823447Z",
     "iopub.status.idle": "2024-12-19T01:31:22.827537Z",
     "shell.execute_reply": "2024-12-19T01:31:22.826886Z",
     "shell.execute_reply.started": "2024-12-19T01:31:22.823743Z"
    },
    "trusted": true
   },
   "outputs": [],
   "source": [
    "from sklearn.metrics import f1_score,accuracy_score,recall_score,precision_score\n",
    "from tqdm import tqdm"
   ]
  },
  {
   "cell_type": "code",
   "execution_count": 75,
   "metadata": {
    "execution": {
     "iopub.execute_input": "2024-12-19T02:18:57.188420Z",
     "iopub.status.busy": "2024-12-19T02:18:57.188109Z",
     "iopub.status.idle": "2024-12-19T02:18:57.196739Z",
     "shell.execute_reply": "2024-12-19T02:18:57.195902Z",
     "shell.execute_reply.started": "2024-12-19T02:18:57.188398Z"
    },
    "trusted": true
   },
   "outputs": [],
   "source": [
    "def sigmoid(x):\n",
    "    return 1 / (1 + np.exp(-x))\n",
    "\n",
    "def get_relevant_labels(input_texts, model, tokenizer, threshold):\n",
    "    inputs = tokenizer(input_texts, return_tensors=\"pt\", padding=True, truncation=True, max_length=512)\n",
    "    inputs = {key: inputs[key].to(device) for key in inputs}\n",
    "    outputs = model(**inputs)\n",
    "    logits = outputs.logits.cpu().detach().numpy()\n",
    "    probabilities = sigmoid(logits)\n",
    "    return (probabilities > threshold).astype(int)\n",
    "\n",
    "def evaluate_threshold(threshold, dataset, model, tokenizer):\n",
    "    all_predictions = []\n",
    "    all_labels = []\n",
    "    for i, example in dataset.iterrows():\n",
    "        input_text = example['text']\n",
    "        true_labels = example['labels']\n",
    "        if type(true_labels) == 'str':\n",
    "            true_labels = true_labels[1:-1].split(\", \")\n",
    "        true_labels = np.array(true_labels).astype(float).astype(int)\n",
    "        predicted_labels = get_relevant_labels(input_text, model, tokenizer, threshold)[0]\n",
    "\n",
    "        all_predictions.append(predicted_labels)\n",
    "        all_labels.append(true_labels)\n",
    "\n",
    "    all_predictions = np.array(all_predictions)\n",
    "    all_labels = np.array(all_labels)\n",
    "\n",
    "    f1_micro = f1_score(all_labels, all_predictions, average=\"micro\")\n",
    "    f1_macro = f1_score(all_labels, all_predictions, average=\"macro\")\n",
    "    precision_micro = precision_score(all_labels, all_predictions, average=\"micro\")\n",
    "    precision_macro = precision_score(all_labels, all_predictions, average=\"macro\")\n",
    "    recall_micro = recall_score(all_labels, all_predictions, average=\"micro\")\n",
    "    recall_macro = recall_score(all_labels, all_predictions, average=\"macro\")\n",
    "    \n",
    "    return {\n",
    "        \"threshold\": threshold,\n",
    "        \"f1_micro\": f1_micro,\n",
    "        \"f1_macro\": f1_macro,\n",
    "        \"precision_micro\": precision_micro,\n",
    "        \"precision_macro\": precision_macro,\n",
    "        \"recall_micro\": recall_micro,\n",
    "        \"recall_macro\": recall_macro,\n",
    "    }"
   ]
  },
  {
   "cell_type": "code",
   "execution_count": 68,
   "metadata": {
    "execution": {
     "iopub.execute_input": "2024-12-19T02:06:54.867167Z",
     "iopub.status.busy": "2024-12-19T02:06:54.866848Z",
     "iopub.status.idle": "2024-12-19T02:11:25.398504Z",
     "shell.execute_reply": "2024-12-19T02:11:25.397775Z",
     "shell.execute_reply.started": "2024-12-19T02:06:54.867141Z"
    },
    "trusted": true
   },
   "outputs": [
    {
     "name": "stderr",
     "output_type": "stream",
     "text": [
      " 20%|██        | 1/5 [00:54<03:36, 54.10s/it]/usr/local/lib/python3.10/dist-packages/sklearn/metrics/_classification.py:1344: UndefinedMetricWarning: Precision is ill-defined and being set to 0.0 in labels with no predicted samples. Use `zero_division` parameter to control this behavior.\n",
      "  _warn_prf(average, modifier, msg_start, len(result))\n",
      " 40%|████      | 2/5 [01:48<02:42, 54.15s/it]/usr/local/lib/python3.10/dist-packages/sklearn/metrics/_classification.py:1344: UndefinedMetricWarning: Precision is ill-defined and being set to 0.0 in labels with no predicted samples. Use `zero_division` parameter to control this behavior.\n",
      "  _warn_prf(average, modifier, msg_start, len(result))\n",
      " 60%|██████    | 3/5 [02:42<01:48, 54.06s/it]/usr/local/lib/python3.10/dist-packages/sklearn/metrics/_classification.py:1344: UndefinedMetricWarning: Precision is ill-defined and being set to 0.0 in labels with no predicted samples. Use `zero_division` parameter to control this behavior.\n",
      "  _warn_prf(average, modifier, msg_start, len(result))\n",
      " 80%|████████  | 4/5 [03:36<00:54, 54.09s/it]/usr/local/lib/python3.10/dist-packages/sklearn/metrics/_classification.py:1344: UndefinedMetricWarning: Precision is ill-defined and being set to 0.0 in labels with no predicted samples. Use `zero_division` parameter to control this behavior.\n",
      "  _warn_prf(average, modifier, msg_start, len(result))\n",
      "100%|██████████| 5/5 [04:30<00:00, 54.10s/it]\n"
     ]
    }
   ],
   "source": [
    "thresholds = np.linspace(0.3, 0.7, 5)\n",
    "results = []\n",
    "for threshold in tqdm(thresholds):\n",
    "    metrics = evaluate_threshold(threshold, validation_dataset, model, tokenizer)\n",
    "    results.append(metrics)"
   ]
  },
  {
   "cell_type": "code",
   "execution_count": 70,
   "metadata": {
    "execution": {
     "iopub.execute_input": "2024-12-19T02:14:14.921085Z",
     "iopub.status.busy": "2024-12-19T02:14:14.920763Z",
     "iopub.status.idle": "2024-12-19T02:14:14.933471Z",
     "shell.execute_reply": "2024-12-19T02:14:14.932700Z",
     "shell.execute_reply.started": "2024-12-19T02:14:14.921059Z"
    },
    "trusted": true
   },
   "outputs": [
    {
     "data": {
      "text/html": [
       "<div>\n",
       "<style scoped>\n",
       "    .dataframe tbody tr th:only-of-type {\n",
       "        vertical-align: middle;\n",
       "    }\n",
       "\n",
       "    .dataframe tbody tr th {\n",
       "        vertical-align: top;\n",
       "    }\n",
       "\n",
       "    .dataframe thead th {\n",
       "        text-align: right;\n",
       "    }\n",
       "</style>\n",
       "<table border=\"1\" class=\"dataframe\">\n",
       "  <thead>\n",
       "    <tr style=\"text-align: right;\">\n",
       "      <th></th>\n",
       "      <th>threshold</th>\n",
       "      <th>f1_micro</th>\n",
       "      <th>f1_macro</th>\n",
       "      <th>precision_micro</th>\n",
       "      <th>precision_macro</th>\n",
       "      <th>recall_micro</th>\n",
       "      <th>recall_macro</th>\n",
       "    </tr>\n",
       "  </thead>\n",
       "  <tbody>\n",
       "    <tr>\n",
       "      <th>0</th>\n",
       "      <td>0.3</td>\n",
       "      <td>0.690918</td>\n",
       "      <td>0.625142</td>\n",
       "      <td>0.671563</td>\n",
       "      <td>0.644798</td>\n",
       "      <td>0.711421</td>\n",
       "      <td>0.631950</td>\n",
       "    </tr>\n",
       "    <tr>\n",
       "      <th>1</th>\n",
       "      <td>0.4</td>\n",
       "      <td>0.694315</td>\n",
       "      <td>0.613446</td>\n",
       "      <td>0.724748</td>\n",
       "      <td>0.697536</td>\n",
       "      <td>0.666334</td>\n",
       "      <td>0.576878</td>\n",
       "    </tr>\n",
       "    <tr>\n",
       "      <th>2</th>\n",
       "      <td>0.5</td>\n",
       "      <td>0.685837</td>\n",
       "      <td>0.582313</td>\n",
       "      <td>0.764057</td>\n",
       "      <td>0.725462</td>\n",
       "      <td>0.622145</td>\n",
       "      <td>0.522587</td>\n",
       "    </tr>\n",
       "    <tr>\n",
       "      <th>3</th>\n",
       "      <td>0.6</td>\n",
       "      <td>0.667169</td>\n",
       "      <td>0.544367</td>\n",
       "      <td>0.796512</td>\n",
       "      <td>0.739606</td>\n",
       "      <td>0.573965</td>\n",
       "      <td>0.468280</td>\n",
       "    </tr>\n",
       "    <tr>\n",
       "      <th>4</th>\n",
       "      <td>0.7</td>\n",
       "      <td>0.633424</td>\n",
       "      <td>0.482325</td>\n",
       "      <td>0.825613</td>\n",
       "      <td>0.751999</td>\n",
       "      <td>0.513815</td>\n",
       "      <td>0.397970</td>\n",
       "    </tr>\n",
       "  </tbody>\n",
       "</table>\n",
       "</div>"
      ],
      "text/plain": [
       "   threshold  f1_micro  f1_macro  precision_micro  precision_macro  \\\n",
       "0        0.3  0.690918  0.625142         0.671563         0.644798   \n",
       "1        0.4  0.694315  0.613446         0.724748         0.697536   \n",
       "2        0.5  0.685837  0.582313         0.764057         0.725462   \n",
       "3        0.6  0.667169  0.544367         0.796512         0.739606   \n",
       "4        0.7  0.633424  0.482325         0.825613         0.751999   \n",
       "\n",
       "   recall_micro  recall_macro  \n",
       "0      0.711421      0.631950  \n",
       "1      0.666334      0.576878  \n",
       "2      0.622145      0.522587  \n",
       "3      0.573965      0.468280  \n",
       "4      0.513815      0.397970  "
      ]
     },
     "execution_count": 70,
     "metadata": {},
     "output_type": "execute_result"
    }
   ],
   "source": [
    "results_df = pd.DataFrame(results)\n",
    "results_df"
   ]
  },
  {
   "cell_type": "code",
   "execution_count": 76,
   "metadata": {
    "execution": {
     "iopub.execute_input": "2024-12-19T02:19:03.177846Z",
     "iopub.status.busy": "2024-12-19T02:19:03.177410Z",
     "iopub.status.idle": "2024-12-19T02:20:00.457299Z",
     "shell.execute_reply": "2024-12-19T02:20:00.456263Z",
     "shell.execute_reply.started": "2024-12-19T02:19:03.177803Z"
    },
    "trusted": true
   },
   "outputs": [
    {
     "name": "stderr",
     "output_type": "stream",
     "text": [
      "/usr/local/lib/python3.10/dist-packages/sklearn/metrics/_classification.py:1344: UndefinedMetricWarning: Precision is ill-defined and being set to 0.0 in labels with no predicted samples. Use `zero_division` parameter to control this behavior.\n",
      "  _warn_prf(average, modifier, msg_start, len(result))\n"
     ]
    }
   ],
   "source": [
    "final_metrics = evaluate_threshold(0.3, data, model, tokenizer)"
   ]
  },
  {
   "cell_type": "code",
   "execution_count": 77,
   "metadata": {
    "execution": {
     "iopub.execute_input": "2024-12-19T02:20:00.458796Z",
     "iopub.status.busy": "2024-12-19T02:20:00.458519Z",
     "iopub.status.idle": "2024-12-19T02:20:00.463267Z",
     "shell.execute_reply": "2024-12-19T02:20:00.462299Z",
     "shell.execute_reply.started": "2024-12-19T02:20:00.458776Z"
    },
    "trusted": true
   },
   "outputs": [
    {
     "name": "stdout",
     "output_type": "stream",
     "text": [
      "Test Set Metrics:\n",
      " {'threshold': 0.3, 'f1_micro': 0.630053750876373, 'f1_macro': 0.5358135956007237, 'precision_micro': 0.5496992557855032, 'precision_macro': 0.48363852575058386, 'recall_micro': 0.7379225400301082, 'recall_macro': 0.6235016360976259}\n"
     ]
    }
   ],
   "source": [
    "print(\"Test Set Metrics:\\n\", final_metrics)"
   ]
  },
  {
   "cell_type": "code",
   "execution_count": 79,
   "metadata": {
    "execution": {
     "iopub.execute_input": "2024-12-19T02:23:59.476635Z",
     "iopub.status.busy": "2024-12-19T02:23:59.476349Z",
     "iopub.status.idle": "2024-12-19T02:23:59.482791Z",
     "shell.execute_reply": "2024-12-19T02:23:59.482035Z",
     "shell.execute_reply.started": "2024-12-19T02:23:59.476614Z"
    },
    "trusted": true
   },
   "outputs": [
    {
     "data": {
      "text/plain": [
       "threshold          0.300000\n",
       "f1_micro           0.630054\n",
       "f1_macro           0.535814\n",
       "precision_micro    0.549699\n",
       "precision_macro    0.483639\n",
       "dtype: float64"
      ]
     },
     "execution_count": 79,
     "metadata": {},
     "output_type": "execute_result"
    }
   ],
   "source": [
    "df_test_result = pd.Series(final_metrics)\n",
    "df_test_result.head()"
   ]
  }
 ],
 "metadata": {
  "kaggle": {
   "accelerator": "gpu",
   "dataSources": [
    {
     "datasetId": 6332183,
     "sourceId": 10240520,
     "sourceType": "datasetVersion"
    }
   ],
   "dockerImageVersionId": 30823,
   "isGpuEnabled": true,
   "isInternetEnabled": true,
   "language": "python",
   "sourceType": "notebook"
  },
  "kernelspec": {
   "display_name": "Python 3",
   "language": "python",
   "name": "python3"
  },
  "language_info": {
   "codemirror_mode": {
    "name": "ipython",
    "version": 3
   },
   "file_extension": ".py",
   "mimetype": "text/x-python",
   "name": "python",
   "nbconvert_exporter": "python",
   "pygments_lexer": "ipython3",
   "version": "3.10.12"
  }
 },
 "nbformat": 4,
 "nbformat_minor": 4
}
